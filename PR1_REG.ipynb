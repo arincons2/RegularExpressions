{
  "nbformat": 4,
  "nbformat_minor": 0,
  "metadata": {
    "colab": {
      "provenance": [],
      "authorship_tag": "ABX9TyMzmW/alWJb3Wo4l+JzMipq",
      "include_colab_link": true
    },
    "kernelspec": {
      "name": "python3",
      "display_name": "Python 3"
    },
    "language_info": {
      "name": "python"
    }
  },
  "cells": [
    {
      "cell_type": "markdown",
      "metadata": {
        "id": "view-in-github",
        "colab_type": "text"
      },
      "source": [
        "<a href=\"https://colab.research.google.com/github/arincons2/RegularExpressions/blob/main/PR1_REG.ipynb\" target=\"_parent\"><img src=\"https://colab.research.google.com/assets/colab-badge.svg\" alt=\"Open In Colab\"/></a>"
      ]
    },
    {
      "cell_type": "markdown",
      "source": [
        "# **Program for regular expressions**"
      ],
      "metadata": {
        "id": "XJ3idoVnY2_H"
      }
    },
    {
      "cell_type": "code",
      "source": [
        "# for ignoring warnings\n",
        "import warnings\n",
        "warnings.filterwarnings('ignore')"
      ],
      "metadata": {
        "id": "_OKTEOFeY64C"
      },
      "execution_count": 1,
      "outputs": []
    },
    {
      "cell_type": "code",
      "source": [
        "# import libraries for data manipulation\n",
        "import numpy as np\n",
        "import pandas as pd\n",
        "#import math\n",
        "\n",
        "#Import reg library\n",
        "import re"
      ],
      "metadata": {
        "id": "J5UncT0pY_-o"
      },
      "execution_count": 2,
      "outputs": []
    },
    {
      "cell_type": "code",
      "source": [
        "#Definiing the number of displayed columns and rows\n",
        "pd.set_option(\"display.max_rows\", 200)\n",
        "pd.set_option(\"display.max_columns\", None)"
      ],
      "metadata": {
        "id": "TdkOQYTWbf3q"
      },
      "execution_count": 3,
      "outputs": []
    },
    {
      "cell_type": "code",
      "source": [
        "# importing drive:\n",
        "#from google.colab import drive\n",
        "#drive.mount('/content/drive')\n",
        "\n",
        "#path with data\n",
        "#path_extraalearn=\"/content/drive/MyDrive/COLAB_PROJECT2_week8/ExtraaLearn.csv\"\n",
        "#df = pd.read_csv(path_extraalearn)"
      ],
      "metadata": {
        "id": "LxvnYbg0ZHmn"
      },
      "execution_count": 4,
      "outputs": []
    },
    {
      "cell_type": "markdown",
      "source": [
        "**Now we create the data frame**"
      ],
      "metadata": {
        "id": "ufaj5lR5h8PM"
      }
    },
    {
      "cell_type": "code",
      "source": [
        "dataCp = {\n",
        "\t'CompanyNames': ['Coca-Cola', ' KFC.USA', 'Tesla?', 'IBM -Vancouver ', 'Microsoft Seattle ', 'Nokia England'],\n",
        "\t'emails': ['alice@example.com', 'bob_at_example.com', 'charlie@example.com', 'alice@example.com', 'bob_at_example.com', 'alice@example.com']\n",
        "}\n",
        "df = pd.DataFrame(dataCp)"
      ],
      "metadata": {
        "id": "mFNNGYaDco3g"
      },
      "execution_count": 5,
      "outputs": []
    },
    {
      "cell_type": "code",
      "source": [
        "df.shape"
      ],
      "metadata": {
        "colab": {
          "base_uri": "https://localhost:8080/"
        },
        "id": "Bd9nVK44dcQC",
        "outputId": "7ff3c5e7-a2a6-4f90-856e-b06d23e5e8b9"
      },
      "execution_count": 6,
      "outputs": [
        {
          "output_type": "execute_result",
          "data": {
            "text/plain": [
              "(6, 2)"
            ]
          },
          "metadata": {},
          "execution_count": 6
        }
      ]
    },
    {
      "cell_type": "code",
      "source": [
        "df.info()"
      ],
      "metadata": {
        "colab": {
          "base_uri": "https://localhost:8080/"
        },
        "id": "FaZm-qx0djeO",
        "outputId": "ffcc0c51-e272-4814-8e7b-1131a0d1eaa6"
      },
      "execution_count": 7,
      "outputs": [
        {
          "output_type": "stream",
          "name": "stdout",
          "text": [
            "<class 'pandas.core.frame.DataFrame'>\n",
            "RangeIndex: 6 entries, 0 to 5\n",
            "Data columns (total 2 columns):\n",
            " #   Column        Non-Null Count  Dtype \n",
            "---  ------        --------------  ----- \n",
            " 0   CompanyNames  6 non-null      object\n",
            " 1   emails        6 non-null      object\n",
            "dtypes: object(2)\n",
            "memory usage: 224.0+ bytes\n"
          ]
        }
      ]
    },
    {
      "cell_type": "code",
      "source": [
        "df.head()"
      ],
      "metadata": {
        "colab": {
          "base_uri": "https://localhost:8080/",
          "height": 206
        },
        "id": "jnfOGWRldlUd",
        "outputId": "b370c1c5-0843-4044-b3a2-d8a65f314bda"
      },
      "execution_count": 8,
      "outputs": [
        {
          "output_type": "execute_result",
          "data": {
            "text/plain": [
              "         CompanyNames               emails\n",
              "0           Coca-Cola    alice@example.com\n",
              "1             KFC.USA   bob_at_example.com\n",
              "2              Tesla?  charlie@example.com\n",
              "3     IBM -Vancouver     alice@example.com\n",
              "4  Microsoft Seattle    bob_at_example.com"
            ],
            "text/html": [
              "\n",
              "  <div id=\"df-bdc6d995-f7d6-4826-aa57-d709fe9ca912\" class=\"colab-df-container\">\n",
              "    <div>\n",
              "<style scoped>\n",
              "    .dataframe tbody tr th:only-of-type {\n",
              "        vertical-align: middle;\n",
              "    }\n",
              "\n",
              "    .dataframe tbody tr th {\n",
              "        vertical-align: top;\n",
              "    }\n",
              "\n",
              "    .dataframe thead th {\n",
              "        text-align: right;\n",
              "    }\n",
              "</style>\n",
              "<table border=\"1\" class=\"dataframe\">\n",
              "  <thead>\n",
              "    <tr style=\"text-align: right;\">\n",
              "      <th></th>\n",
              "      <th>CompanyNames</th>\n",
              "      <th>emails</th>\n",
              "    </tr>\n",
              "  </thead>\n",
              "  <tbody>\n",
              "    <tr>\n",
              "      <th>0</th>\n",
              "      <td>Coca-Cola</td>\n",
              "      <td>alice@example.com</td>\n",
              "    </tr>\n",
              "    <tr>\n",
              "      <th>1</th>\n",
              "      <td>KFC.USA</td>\n",
              "      <td>bob_at_example.com</td>\n",
              "    </tr>\n",
              "    <tr>\n",
              "      <th>2</th>\n",
              "      <td>Tesla?</td>\n",
              "      <td>charlie@example.com</td>\n",
              "    </tr>\n",
              "    <tr>\n",
              "      <th>3</th>\n",
              "      <td>IBM -Vancouver</td>\n",
              "      <td>alice@example.com</td>\n",
              "    </tr>\n",
              "    <tr>\n",
              "      <th>4</th>\n",
              "      <td>Microsoft Seattle</td>\n",
              "      <td>bob_at_example.com</td>\n",
              "    </tr>\n",
              "  </tbody>\n",
              "</table>\n",
              "</div>\n",
              "    <div class=\"colab-df-buttons\">\n",
              "\n",
              "  <div class=\"colab-df-container\">\n",
              "    <button class=\"colab-df-convert\" onclick=\"convertToInteractive('df-bdc6d995-f7d6-4826-aa57-d709fe9ca912')\"\n",
              "            title=\"Convert this dataframe to an interactive table.\"\n",
              "            style=\"display:none;\">\n",
              "\n",
              "  <svg xmlns=\"http://www.w3.org/2000/svg\" height=\"24px\" viewBox=\"0 -960 960 960\">\n",
              "    <path d=\"M120-120v-720h720v720H120Zm60-500h600v-160H180v160Zm220 220h160v-160H400v160Zm0 220h160v-160H400v160ZM180-400h160v-160H180v160Zm440 0h160v-160H620v160ZM180-180h160v-160H180v160Zm440 0h160v-160H620v160Z\"/>\n",
              "  </svg>\n",
              "    </button>\n",
              "\n",
              "  <style>\n",
              "    .colab-df-container {\n",
              "      display:flex;\n",
              "      gap: 12px;\n",
              "    }\n",
              "\n",
              "    .colab-df-convert {\n",
              "      background-color: #E8F0FE;\n",
              "      border: none;\n",
              "      border-radius: 50%;\n",
              "      cursor: pointer;\n",
              "      display: none;\n",
              "      fill: #1967D2;\n",
              "      height: 32px;\n",
              "      padding: 0 0 0 0;\n",
              "      width: 32px;\n",
              "    }\n",
              "\n",
              "    .colab-df-convert:hover {\n",
              "      background-color: #E2EBFA;\n",
              "      box-shadow: 0px 1px 2px rgba(60, 64, 67, 0.3), 0px 1px 3px 1px rgba(60, 64, 67, 0.15);\n",
              "      fill: #174EA6;\n",
              "    }\n",
              "\n",
              "    .colab-df-buttons div {\n",
              "      margin-bottom: 4px;\n",
              "    }\n",
              "\n",
              "    [theme=dark] .colab-df-convert {\n",
              "      background-color: #3B4455;\n",
              "      fill: #D2E3FC;\n",
              "    }\n",
              "\n",
              "    [theme=dark] .colab-df-convert:hover {\n",
              "      background-color: #434B5C;\n",
              "      box-shadow: 0px 1px 3px 1px rgba(0, 0, 0, 0.15);\n",
              "      filter: drop-shadow(0px 1px 2px rgba(0, 0, 0, 0.3));\n",
              "      fill: #FFFFFF;\n",
              "    }\n",
              "  </style>\n",
              "\n",
              "    <script>\n",
              "      const buttonEl =\n",
              "        document.querySelector('#df-bdc6d995-f7d6-4826-aa57-d709fe9ca912 button.colab-df-convert');\n",
              "      buttonEl.style.display =\n",
              "        google.colab.kernel.accessAllowed ? 'block' : 'none';\n",
              "\n",
              "      async function convertToInteractive(key) {\n",
              "        const element = document.querySelector('#df-bdc6d995-f7d6-4826-aa57-d709fe9ca912');\n",
              "        const dataTable =\n",
              "          await google.colab.kernel.invokeFunction('convertToInteractive',\n",
              "                                                    [key], {});\n",
              "        if (!dataTable) return;\n",
              "\n",
              "        const docLinkHtml = 'Like what you see? Visit the ' +\n",
              "          '<a target=\"_blank\" href=https://colab.research.google.com/notebooks/data_table.ipynb>data table notebook</a>'\n",
              "          + ' to learn more about interactive tables.';\n",
              "        element.innerHTML = '';\n",
              "        dataTable['output_type'] = 'display_data';\n",
              "        await google.colab.output.renderOutput(dataTable, element);\n",
              "        const docLink = document.createElement('div');\n",
              "        docLink.innerHTML = docLinkHtml;\n",
              "        element.appendChild(docLink);\n",
              "      }\n",
              "    </script>\n",
              "  </div>\n",
              "\n",
              "\n",
              "<div id=\"df-07e48040-15cc-4986-9eb6-d2c55558440e\">\n",
              "  <button class=\"colab-df-quickchart\" onclick=\"quickchart('df-07e48040-15cc-4986-9eb6-d2c55558440e')\"\n",
              "            title=\"Suggest charts\"\n",
              "            style=\"display:none;\">\n",
              "\n",
              "<svg xmlns=\"http://www.w3.org/2000/svg\" height=\"24px\"viewBox=\"0 0 24 24\"\n",
              "     width=\"24px\">\n",
              "    <g>\n",
              "        <path d=\"M19 3H5c-1.1 0-2 .9-2 2v14c0 1.1.9 2 2 2h14c1.1 0 2-.9 2-2V5c0-1.1-.9-2-2-2zM9 17H7v-7h2v7zm4 0h-2V7h2v10zm4 0h-2v-4h2v4z\"/>\n",
              "    </g>\n",
              "</svg>\n",
              "  </button>\n",
              "\n",
              "<style>\n",
              "  .colab-df-quickchart {\n",
              "      --bg-color: #E8F0FE;\n",
              "      --fill-color: #1967D2;\n",
              "      --hover-bg-color: #E2EBFA;\n",
              "      --hover-fill-color: #174EA6;\n",
              "      --disabled-fill-color: #AAA;\n",
              "      --disabled-bg-color: #DDD;\n",
              "  }\n",
              "\n",
              "  [theme=dark] .colab-df-quickchart {\n",
              "      --bg-color: #3B4455;\n",
              "      --fill-color: #D2E3FC;\n",
              "      --hover-bg-color: #434B5C;\n",
              "      --hover-fill-color: #FFFFFF;\n",
              "      --disabled-bg-color: #3B4455;\n",
              "      --disabled-fill-color: #666;\n",
              "  }\n",
              "\n",
              "  .colab-df-quickchart {\n",
              "    background-color: var(--bg-color);\n",
              "    border: none;\n",
              "    border-radius: 50%;\n",
              "    cursor: pointer;\n",
              "    display: none;\n",
              "    fill: var(--fill-color);\n",
              "    height: 32px;\n",
              "    padding: 0;\n",
              "    width: 32px;\n",
              "  }\n",
              "\n",
              "  .colab-df-quickchart:hover {\n",
              "    background-color: var(--hover-bg-color);\n",
              "    box-shadow: 0 1px 2px rgba(60, 64, 67, 0.3), 0 1px 3px 1px rgba(60, 64, 67, 0.15);\n",
              "    fill: var(--button-hover-fill-color);\n",
              "  }\n",
              "\n",
              "  .colab-df-quickchart-complete:disabled,\n",
              "  .colab-df-quickchart-complete:disabled:hover {\n",
              "    background-color: var(--disabled-bg-color);\n",
              "    fill: var(--disabled-fill-color);\n",
              "    box-shadow: none;\n",
              "  }\n",
              "\n",
              "  .colab-df-spinner {\n",
              "    border: 2px solid var(--fill-color);\n",
              "    border-color: transparent;\n",
              "    border-bottom-color: var(--fill-color);\n",
              "    animation:\n",
              "      spin 1s steps(1) infinite;\n",
              "  }\n",
              "\n",
              "  @keyframes spin {\n",
              "    0% {\n",
              "      border-color: transparent;\n",
              "      border-bottom-color: var(--fill-color);\n",
              "      border-left-color: var(--fill-color);\n",
              "    }\n",
              "    20% {\n",
              "      border-color: transparent;\n",
              "      border-left-color: var(--fill-color);\n",
              "      border-top-color: var(--fill-color);\n",
              "    }\n",
              "    30% {\n",
              "      border-color: transparent;\n",
              "      border-left-color: var(--fill-color);\n",
              "      border-top-color: var(--fill-color);\n",
              "      border-right-color: var(--fill-color);\n",
              "    }\n",
              "    40% {\n",
              "      border-color: transparent;\n",
              "      border-right-color: var(--fill-color);\n",
              "      border-top-color: var(--fill-color);\n",
              "    }\n",
              "    60% {\n",
              "      border-color: transparent;\n",
              "      border-right-color: var(--fill-color);\n",
              "    }\n",
              "    80% {\n",
              "      border-color: transparent;\n",
              "      border-right-color: var(--fill-color);\n",
              "      border-bottom-color: var(--fill-color);\n",
              "    }\n",
              "    90% {\n",
              "      border-color: transparent;\n",
              "      border-bottom-color: var(--fill-color);\n",
              "    }\n",
              "  }\n",
              "</style>\n",
              "\n",
              "  <script>\n",
              "    async function quickchart(key) {\n",
              "      const quickchartButtonEl =\n",
              "        document.querySelector('#' + key + ' button');\n",
              "      quickchartButtonEl.disabled = true;  // To prevent multiple clicks.\n",
              "      quickchartButtonEl.classList.add('colab-df-spinner');\n",
              "      try {\n",
              "        const charts = await google.colab.kernel.invokeFunction(\n",
              "            'suggestCharts', [key], {});\n",
              "      } catch (error) {\n",
              "        console.error('Error during call to suggestCharts:', error);\n",
              "      }\n",
              "      quickchartButtonEl.classList.remove('colab-df-spinner');\n",
              "      quickchartButtonEl.classList.add('colab-df-quickchart-complete');\n",
              "    }\n",
              "    (() => {\n",
              "      let quickchartButtonEl =\n",
              "        document.querySelector('#df-07e48040-15cc-4986-9eb6-d2c55558440e button');\n",
              "      quickchartButtonEl.style.display =\n",
              "        google.colab.kernel.accessAllowed ? 'block' : 'none';\n",
              "    })();\n",
              "  </script>\n",
              "</div>\n",
              "\n",
              "    </div>\n",
              "  </div>\n"
            ],
            "application/vnd.google.colaboratory.intrinsic+json": {
              "type": "dataframe",
              "variable_name": "df",
              "summary": "{\n  \"name\": \"df\",\n  \"rows\": 6,\n  \"fields\": [\n    {\n      \"column\": \"CompanyNames\",\n      \"properties\": {\n        \"dtype\": \"string\",\n        \"num_unique_values\": 6,\n        \"samples\": [\n          \"Coca-Cola\",\n          \" KFC.USA\",\n          \"Nokia England\"\n        ],\n        \"semantic_type\": \"\",\n        \"description\": \"\"\n      }\n    },\n    {\n      \"column\": \"emails\",\n      \"properties\": {\n        \"dtype\": \"string\",\n        \"num_unique_values\": 3,\n        \"samples\": [\n          \"alice@example.com\",\n          \"bob_at_example.com\",\n          \"charlie@example.com\"\n        ],\n        \"semantic_type\": \"\",\n        \"description\": \"\"\n      }\n    }\n  ]\n}"
            }
          },
          "metadata": {},
          "execution_count": 8
        }
      ]
    },
    {
      "cell_type": "markdown",
      "source": [
        "**First way of removing punctuation marks**"
      ],
      "metadata": {
        "id": "1PuRqOGYfY-U"
      }
    },
    {
      "cell_type": "code",
      "source": [
        "df['CompanyNames'] = df['CompanyNames'].str.replace(r'[()-.?]', '  ', regex=True)\n",
        "#cleaned_text = re.sub(r'[()-]', '', text)\n",
        "print(df)\n"
      ],
      "metadata": {
        "colab": {
          "base_uri": "https://localhost:8080/"
        },
        "id": "kaV3BdAueA2M",
        "outputId": "014066b8-5b19-4aa1-a55c-c879e477d466"
      },
      "execution_count": 9,
      "outputs": [
        {
          "output_type": "stream",
          "name": "stdout",
          "text": [
            "         CompanyNames               emails\n",
            "0          Coca  Cola    alice@example.com\n",
            "1            KFC  USA   bob_at_example.com\n",
            "2             Tesla    charlie@example.com\n",
            "3    IBM   Vancouver     alice@example.com\n",
            "4  Microsoft Seattle    bob_at_example.com\n",
            "5       Nokia England    alice@example.com\n"
          ]
        }
      ]
    },
    {
      "cell_type": "markdown",
      "source": [
        "**Second way of removing punctuation marks**"
      ],
      "metadata": {
        "id": "IXL4VzyHidtI"
      }
    },
    {
      "cell_type": "code",
      "source": [
        "df2 = pd.DataFrame(dataCp)\n",
        "df2['CompanyNames'] = df2['CompanyNames'].str.replace(r'[^\\w\\s]', ' ', regex=True)\n",
        "####df2['CompanyNames'] = df2['CompanyNames'].str.replace(r'[^a-zA-Z]', ' ', regex=True) #r'[^a-zA-Z]'\n",
        "print(df2)"
      ],
      "metadata": {
        "colab": {
          "base_uri": "https://localhost:8080/"
        },
        "id": "Xw65AnCwu96c",
        "outputId": "eb0dacfb-2d49-4065-92cb-fa3b01a126f6"
      },
      "execution_count": 10,
      "outputs": [
        {
          "output_type": "stream",
          "name": "stdout",
          "text": [
            "         CompanyNames               emails\n",
            "0           Coca Cola    alice@example.com\n",
            "1             KFC USA   bob_at_example.com\n",
            "2              Tesla   charlie@example.com\n",
            "3     IBM  Vancouver     alice@example.com\n",
            "4  Microsoft Seattle    bob_at_example.com\n",
            "5       Nokia England    alice@example.com\n"
          ]
        }
      ]
    },
    {
      "cell_type": "markdown",
      "source": [
        "**Removal of city names:**"
      ],
      "metadata": {
        "id": "CFbMgBNmfit2"
      }
    },
    {
      "cell_type": "code",
      "source": [
        "CityNames = ['Seattle','Vancouver']\n",
        "CountryNames = ['USA', 'England']\n",
        "\n",
        "for i_k in CityNames:\n",
        "     print(i_k, type(i_k))"
      ],
      "metadata": {
        "colab": {
          "base_uri": "https://localhost:8080/"
        },
        "id": "hIK2R4oP30JW",
        "outputId": "1b9c86b5-d467-4dc0-ce97-f64ab58efef6"
      },
      "execution_count": 11,
      "outputs": [
        {
          "output_type": "stream",
          "name": "stdout",
          "text": [
            "Seattle <class 'str'>\n",
            "Vancouver <class 'str'>\n"
          ]
        }
      ]
    },
    {
      "cell_type": "code",
      "source": [
        "print('Initiallly, df2 is:',df2)\n",
        "print(' ')\n",
        "\n",
        "for i_k in CityNames:\n",
        "     #print(i_k, type(i_k))\n",
        "     #print('Seattle is', type('Seattle'))\n",
        "     df2['CompanyNames'] = df2['CompanyNames'].replace(i_k, ' ', regex=True)\n",
        "\n",
        "print('')\n",
        "print('Improved df2 (without city names):')\n",
        "print(df2)"
      ],
      "metadata": {
        "colab": {
          "base_uri": "https://localhost:8080/"
        },
        "id": "bbWwS3L4BrNO",
        "outputId": "f230e4e7-52e8-4102-8bd3-a0187152e775"
      },
      "execution_count": 12,
      "outputs": [
        {
          "output_type": "stream",
          "name": "stdout",
          "text": [
            "Initiallly, df2 is:          CompanyNames               emails\n",
            "0           Coca Cola    alice@example.com\n",
            "1             KFC USA   bob_at_example.com\n",
            "2              Tesla   charlie@example.com\n",
            "3     IBM  Vancouver     alice@example.com\n",
            "4  Microsoft Seattle    bob_at_example.com\n",
            "5       Nokia England    alice@example.com\n",
            " \n",
            "\n",
            "Improved df2 (without city names):\n",
            "    CompanyNames               emails\n",
            "0      Coca Cola    alice@example.com\n",
            "1        KFC USA   bob_at_example.com\n",
            "2         Tesla   charlie@example.com\n",
            "3        IBM        alice@example.com\n",
            "4   Microsoft      bob_at_example.com\n",
            "5  Nokia England    alice@example.com\n"
          ]
        }
      ]
    },
    {
      "cell_type": "markdown",
      "source": [
        "**Now we remove the Country names**"
      ],
      "metadata": {
        "id": "ylBv8RgHZmbA"
      }
    },
    {
      "cell_type": "code",
      "source": [
        "for j_k in CountryNames:\n",
        "      df2['CompanyNames'] = df2['CompanyNames'].replace(j_k, ' ', regex=True)\n",
        "\n",
        "print('')\n",
        "print('Improved df2 (without country names):')\n",
        "print(df2)"
      ],
      "metadata": {
        "colab": {
          "base_uri": "https://localhost:8080/"
        },
        "id": "uA-1N3fFZk8l",
        "outputId": "f719c09c-332e-4397-8fd2-8db69f5a97c7"
      },
      "execution_count": 13,
      "outputs": [
        {
          "output_type": "stream",
          "name": "stdout",
          "text": [
            "\n",
            "Improved df2 (without country names):\n",
            "   CompanyNames               emails\n",
            "0     Coca Cola    alice@example.com\n",
            "1         KFC     bob_at_example.com\n",
            "2        Tesla   charlie@example.com\n",
            "3       IBM        alice@example.com\n",
            "4  Microsoft      bob_at_example.com\n",
            "5       Nokia      alice@example.com\n"
          ]
        }
      ]
    },
    {
      "cell_type": "markdown",
      "source": [
        "**Now we remove leading spaces**"
      ],
      "metadata": {
        "id": "G0l7Kb5eY62b"
      }
    },
    {
      "cell_type": "code",
      "source": [
        "df2['CompanyNames'] = df2['CompanyNames'].str.lstrip(' ')\n",
        "print('Improved df2 (without leading spaces) is:')\n",
        "print(df2)"
      ],
      "metadata": {
        "colab": {
          "base_uri": "https://localhost:8080/"
        },
        "id": "Ot7b7VhUY-0H",
        "outputId": "42a8b762-3700-4563-e716-a40724f1767e"
      },
      "execution_count": 14,
      "outputs": [
        {
          "output_type": "stream",
          "name": "stdout",
          "text": [
            "Improved df2 (without leading spaces) is:\n",
            "   CompanyNames               emails\n",
            "0     Coca Cola    alice@example.com\n",
            "1         KFC     bob_at_example.com\n",
            "2        Tesla   charlie@example.com\n",
            "3       IBM        alice@example.com\n",
            "4  Microsoft      bob_at_example.com\n",
            "5       Nokia      alice@example.com\n"
          ]
        }
      ]
    },
    {
      "cell_type": "markdown",
      "source": [
        "**Now we remove trailing spaces**"
      ],
      "metadata": {
        "id": "b5UiJG-Eewhw"
      }
    },
    {
      "cell_type": "code",
      "source": [
        "df2['CompanyNames'] = df2['CompanyNames'].str.rstrip(' ')\n",
        "print('Improved df2 (without trailing spaces):')\n",
        "print(df2)"
      ],
      "metadata": {
        "colab": {
          "base_uri": "https://localhost:8080/"
        },
        "id": "8-IgyrXje3KQ",
        "outputId": "b4bfa70f-db64-49dc-8a75-bc7a448ea1c7"
      },
      "execution_count": 15,
      "outputs": [
        {
          "output_type": "stream",
          "name": "stdout",
          "text": [
            "Improved df2 (without trailing spaces):\n",
            "  CompanyNames               emails\n",
            "0    Coca Cola    alice@example.com\n",
            "1          KFC   bob_at_example.com\n",
            "2        Tesla  charlie@example.com\n",
            "3          IBM    alice@example.com\n",
            "4    Microsoft   bob_at_example.com\n",
            "5        Nokia    alice@example.com\n"
          ]
        }
      ]
    },
    {
      "cell_type": "code",
      "source": [],
      "metadata": {
        "id": "1O1p4aEMjeWA"
      },
      "execution_count": null,
      "outputs": []
    },
    {
      "cell_type": "markdown",
      "source": [
        "# THE END"
      ],
      "metadata": {
        "id": "Fkby8cGJfF5T"
      }
    }
  ]
}